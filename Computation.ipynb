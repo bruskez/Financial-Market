{
 "cells": [
  {
   "cell_type": "code",
   "execution_count": null,
   "id": "2e15d192",
   "metadata": {
    "vscode": {
     "languageId": "plaintext"
    }
   },
   "outputs": [],
   "source": [
    "import os\n",
    "import pandas as pd\n",
    "import numpy as np\n",
    "\n",
    "def process_csv_files(folder_path):\n",
    "    for file in os.listdir(folder_path):\n",
    "        if file.endswith('.csv'):\n",
    "            file_path = os.path.join(folder_path, file)\n",
    "            df = pd.read_csv(file_path)\n",
    "\n",
    "            # Convert 'Date' column to datetime format\n",
    "            df['Date'] = pd.to_datetime(df['Date'])\n",
    "\n",
    "            # Calculate daily returns as percentage\n",
    "            df['daily_return'] = df['Adj Close'].pct_change() * 100\n",
    "\n",
    "            # Compute monthly mean of daily returns\n",
    "            monthly_return_mean = df.groupby(df['Date'].dt.to_period('M'))['daily_return'].mean()\n",
    "            df['monthly_mean'] = df['Date'].dt.to_period('M').map(monthly_return_mean)\n",
    "\n",
    "            # Compute monthly RMSE of daily returns vs monthly mean\n",
    "            rmse_map = df.groupby(df['Date'].dt.to_period('M')).apply(\n",
    "                lambda x: np.sqrt(np.mean((x['daily_return'] - x['monthly_mean']) ** 2))\n",
    "            )\n",
    "            df['RMSE'] = df['Date'].dt.to_period('M').map(rmse_map)\n",
    "\n",
    "            # Compute monthly mean of volume\n",
    "            monthly_volume_mean = df.groupby(df['Date'].dt.to_period('M'))['Volume'].mean()\n",
    "            df['Vol_month_mean'] = df['Date'].dt.to_period('M').map(monthly_volume_mean)\n",
    "\n",
    "            # Save the updated DataFrame back to the same CSV file\n",
    "            df.to_csv(file_path, index=False)\n",
    "\n",
    "# Apply processing to both 'stocks' and 'etfs' folders\n",
    "for folder in ['Data/stocks', 'Data/etfs']:\n",
    "    process_csv_files(folder)\n"
   ]
  }
 ],
 "metadata": {
  "language_info": {
   "name": "python"
  }
 },
 "nbformat": 4,
 "nbformat_minor": 5
}
