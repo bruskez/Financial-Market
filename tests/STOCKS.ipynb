{
 "cells": [
  {
   "cell_type": "markdown",
   "source": [
    "## COMPUTE DAILY RETURNS"
   ],
   "metadata": {
    "collapsed": false
   },
   "id": "1455f6a82293eab6"
  },
  {
   "cell_type": "code",
   "execution_count": null,
   "outputs": [],
   "source": [
    "import os\n",
    "import pandas as pd\n",
    "\n",
    "# Define the folder containing the CSV files\n",
    "folder = 'Data/stocks'\n",
    "\n",
    "#Loop through all files in the folder\n",
    "for file in os.listdir(folder):\n",
    "    # Check if the file has a '.csv' extension\n",
    "    if file.endswith(\".csv\"):\n",
    "        # Construct the full file path\n",
    "        file_path = os.path.join(folder, file)\n",
    "        # Read the ETF data from the CSV file into a Pandas DataFrame\n",
    "        df = pd.read_csv(file_path)\n",
    "        # Calculate the 'daily_return' column and multiply by 100\n",
    "        df['daily_return'] = (df['Adj Close'].shift(0) / df['Adj Close'].shift(1) - 1) * 100\n",
    "        # Save the updated DataFrame back to the CSV file without including the index\n",
    "        df.to_csv(file_path, index=False)"
   ],
   "metadata": {
    "collapsed": false
   },
   "id": "fbc7186872c42092"
  },
  {
   "cell_type": "markdown",
   "source": [
    "## COMPUTE MONTHLY MEAN OF DAILY RETURNS"
   ],
   "metadata": {
    "collapsed": false
   },
   "id": "1d384fcff5d89bc1"
  },
  {
   "cell_type": "code",
   "execution_count": null,
   "outputs": [],
   "source": [
    "# Import necessary libraries\n",
    "import os\n",
    "import pandas as pd\n",
    "\n",
    "# Define the folder containing the CSV files\n",
    "folder = 'Data/stocks'\n",
    "\n",
    "# Loop through all files in the folder\n",
    "for file in os.listdir(folder):\n",
    "    # Check if the current file has the \".csv\" extension\n",
    "    if file.endswith(\".csv\"):\n",
    "        # Create the full file path\n",
    "        file_path = os.path.join(folder, file)\n",
    "        # Read the CSV file into a DataFrame\n",
    "        df = pd.read_csv(file_path)\n",
    "        # Convert the 'Date' column to datetime format\n",
    "        df['Date'] = pd.to_datetime(df['Date'])\n",
    "        # Calculate the monthly average of daily returns for each month\n",
    "        monthly_mean = df.groupby(df['Date'].dt.to_period('M'))['daily_return'].mean()\n",
    "        # Create a new 'monthly_mean' column in the original DataFrame and assign the monthly average values\n",
    "        df['monthly_mean'] = df['Date'].dt.to_period('M').map(monthly_mean)\n",
    "        # Save the modified DataFrame back to the original CSV file without including the index\n",
    "        df.to_csv(file_path, index=False)\n"
   ],
   "metadata": {
    "collapsed": false
   },
   "id": "e96598889475e756"
  },
  {
   "cell_type": "markdown",
   "source": [
    "## COMPUTE MONTHLY RMSE "
   ],
   "metadata": {
    "collapsed": false
   },
   "id": "66ae8974d8e8fde1"
  },
  {
   "cell_type": "code",
   "execution_count": null,
   "outputs": [],
   "source": [
    "# Import necessary libraries\n",
    "import os\n",
    "import pandas as pd\n",
    "import numpy as np\n",
    "\n",
    "# Folder containing the CSV files\n",
    "folder = 'Data/stocks'\n",
    "\n",
    "# Loop through all CSV files in the folder\n",
    "for csv_file in os.listdir(folder):\n",
    "    if csv_file.endswith('.csv'):\n",
    "        # Create the full file path\n",
    "        file_path = os.path.join(folder, csv_file)\n",
    "\n",
    "        # Load the DataFrame from each CSV file\n",
    "        df = pd.read_csv(file_path)\n",
    "\n",
    "        # Convert the 'Date' column to datetime format\n",
    "        df['Date'] = pd.to_datetime(df['Date'])\n",
    "\n",
    "        # Group the data by month\n",
    "        monthly_group = df.groupby(df['Date'].dt.to_period(\"M\"))\n",
    "\n",
    "        # Calculate the Root Mean Squared Error (RMSE) for each month and add the 'RMSE' column\n",
    "        for month_name, month_data in monthly_group:\n",
    "            rmse_month = np.sqrt(np.mean((month_data['daily_return'] - month_data['monthly_mean']) ** 2))\n",
    "            df.loc[df['Date'].dt.to_period(\"M\") == month_name, 'RMSE'] = rmse_month\n",
    "\n",
    "        # Save the updated DataFrame back to the CSV file\n",
    "        df.to_csv(file_path, index=False)"
   ],
   "metadata": {
    "collapsed": false
   },
   "id": "659015e843aa3c33"
  },
  {
   "cell_type": "markdown",
   "source": [
    "## COMPUTE MONTHLY MEAN OF VOLUMES"
   ],
   "metadata": {
    "collapsed": false
   },
   "id": "6af6f417c02ca4a8"
  },
  {
   "cell_type": "code",
   "execution_count": null,
   "outputs": [],
   "source": [
    "# Import necessary libraries\n",
    "import os\n",
    "import pandas as pd\n",
    "\n",
    "# Define the folder containing the CSV files\n",
    "folder = 'Data/stocks'\n",
    "\n",
    "# Loop through all files in the folder\n",
    "for file in os.listdir(folder):\n",
    "    # Check if the current file has the \".csv\" extension\n",
    "    if file.endswith(\".csv\"):\n",
    "        # Create the full file path\n",
    "        file_path = os.path.join(folder, file)\n",
    "        # Read the CSV file into a DataFrame\n",
    "        df = pd.read_csv(file_path)\n",
    "        # Convert the 'Date' column to datetime format\n",
    "        df['Date'] = pd.to_datetime(df['Date'])\n",
    "        # Calculate the monthly average of daily volume for each month\n",
    "        monthly_volume_mean = df.groupby(df['Date'].dt.to_period('M'))['Volume'].mean()\n",
    "        # Create a new 'Vol_month_mean' column in the original DataFrame and assign the monthly average values\n",
    "        df['Vol_month_mean'] = df['Date'].dt.to_period('M').map(monthly_volume_mean)\n",
    "        # Save the modified DataFrame back to the original CSV file without including the index\n",
    "        df.to_csv(file_path, index=False)"
   ],
   "metadata": {
    "collapsed": false
   },
   "id": "cd3b9946e91d7c06"
  }
 ],
 "metadata": {
  "kernelspec": {
   "display_name": "Python 3",
   "language": "python",
   "name": "python3"
  },
  "language_info": {
   "codemirror_mode": {
    "name": "ipython",
    "version": 2
   },
   "file_extension": ".py",
   "mimetype": "text/x-python",
   "name": "python",
   "nbconvert_exporter": "python",
   "pygments_lexer": "ipython2",
   "version": "2.7.6"
  }
 },
 "nbformat": 4,
 "nbformat_minor": 5
}
