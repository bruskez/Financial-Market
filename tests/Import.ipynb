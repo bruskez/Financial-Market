{
 "cells": [
  {
   "cell_type": "markdown",
   "id": "7d333615430d2b0f",
   "metadata": {
    "collapsed": false
   },
   "source": [
    "## IMPORT DATA"
   ]
  },
  {
   "cell_type": "code",
   "execution_count": null,
   "id": "5793bcac9ea06601",
   "metadata": {
    "ExecuteTime": {
     "end_time": "2023-11-21T20:58:26.055505800Z",
     "start_time": "2023-11-21T20:58:26.052436400Z"
    },
    "collapsed": false
   },
   "outputs": [],
   "source": [
    "offset = 0\n",
    "limit = 3000\n",
    "period = '10y' # valid periods: 1d,5d,1mo,3mo,6mo,1y,2y,5y,10y,ytd,max"
   ]
  },
  {
   "cell_type": "code",
   "execution_count": null,
   "id": "a5065e10eb474817",
   "metadata": {
    "ExecuteTime": {
     "end_time": "2023-11-21T20:58:33.116048500Z",
     "start_time": "2023-11-21T20:58:28.124422900Z"
    },
    "collapsed": false
   },
   "outputs": [],
   "source": [
    "import pandas as pd\n",
    "\n",
    "data = pd.read_csv(\"http://www.nasdaqtrader.com/dynamic/SymDir/nasdaqtraded.txt\", sep='|')\n",
    "data_clean = data[data['Test Issue'] == 'N']\n",
    "symbols = data_clean['NASDAQ Symbol'].tolist()\n",
    "print('total number of symbols traded = {}'.format(len(symbols)))"
   ]
  },
  {
   "cell_type": "code",
   "execution_count": null,
   "id": "a735dc75dfd05396",
   "metadata": {
    "ExecuteTime": {
     "end_time": "2023-11-21T20:58:37.057363800Z",
     "start_time": "2023-11-21T20:58:34.033923100Z"
    },
    "collapsed": false
   },
   "outputs": [],
   "source": [
    "!pip install yfinance\n",
    "import yfinance as yf\n",
    "import os, contextlib"
   ]
  },
  {
   "cell_type": "code",
   "execution_count": null,
   "id": "8627d475",
   "metadata": {},
   "outputs": [],
   "source": [
    "import os\n",
    "\n",
    "# Verifica se la directory esiste, se non esiste, la crea\n",
    "output_dir = 'Data'\n",
    "if not os.path.exists(output_dir):\n",
    "    os.makedirs(output_dir)\n",
    "\n",
    "# Ora puoi salvare il file nella directory 'Data'\n",
    "data.to_csv(os.path.join(output_dir, 'symbols_valid_meta.csv'), index=False)\n"
   ]
  },
  {
   "cell_type": "code",
   "execution_count": null,
   "id": "13abf16e7c1cf226",
   "metadata": {
    "ExecuteTime": {
     "end_time": "2023-11-21T22:28:34.814136200Z",
     "start_time": "2023-11-21T20:59:17.686083900Z"
    },
    "collapsed": false
   },
   "outputs": [],
   "source": [
    "%%time\n",
    "\n",
    "limit = limit if limit else len(symbols)\n",
    "end = min(offset + limit, len(symbols))\n",
    "is_valid = [False] * len(symbols)\n",
    "# force silencing of verbose API\n",
    "with open(os.devnull, 'w') as devnull:\n",
    "    with contextlib.redirect_stdout(devnull):\n",
    "        for i in range(offset, end):\n",
    "            s = symbols[i]\n",
    "            data = yf.download(s, period=period)\n",
    "            if len(data.index) == 0:\n",
    "                continue\n",
    "        \n",
    "            is_valid[i] = True\n",
    "            data.to_csv('Data/{}.csv'.format(s))\n",
    "\n",
    "print('Total number of valid symbols downloaded = {}'.format(sum(is_valid)))"
   ]
  },
  {
   "cell_type": "code",
   "execution_count": null,
   "id": "fac32afd8c657f1b",
   "metadata": {
    "ExecuteTime": {
     "end_time": "2023-11-21T22:29:24.432855300Z",
     "start_time": "2023-11-21T22:29:21.301169800Z"
    },
    "collapsed": false
   },
   "outputs": [],
   "source": [
    "valid_data = data_clean[is_valid]\n",
    "valid_data.to_csv('symbols_valid_meta.csv', index=False)"
   ]
  },
  {
   "cell_type": "code",
   "execution_count": null,
   "id": "64c17be47554652e",
   "metadata": {
    "ExecuteTime": {
     "end_time": "2023-11-21T22:29:33.555255700Z",
     "start_time": "2023-11-21T22:29:33.008317600Z"
    },
    "collapsed": false
   },
   "outputs": [],
   "source": [
    "etfs = valid_data[valid_data['ETF'] == 'Y']['NASDAQ Symbol'].tolist()\n",
    "stocks = valid_data[valid_data['ETF'] == 'N']['NASDAQ Symbol'].tolist()"
   ]
  },
  {
   "cell_type": "code",
   "execution_count": null,
   "id": "4f67b525111a794a",
   "metadata": {
    "ExecuteTime": {
     "end_time": "2023-11-21T22:36:11.846895600Z",
     "start_time": "2023-11-21T22:35:49.677285900Z"
    },
    "collapsed": false
   },
   "outputs": [],
   "source": [
    "import shutil\n",
    "from os.path import isfile, join\n",
    "\n",
    "def move_symbols(symbols, dest):\n",
    "    for s in symbols:\n",
    "        filename = '{}.csv'.format(s)\n",
    "        shutil.move(join('Data', filename), join(dest, filename))\n",
    "        \n",
    "move_symbols(etfs, \"Data/etfs\")\n",
    "move_symbols(stocks, \"Data/stocks\")"
   ]
  },
  {
   "cell_type": "code",
   "execution_count": null,
   "id": "6c0d581ba9540e5f",
   "metadata": {
    "collapsed": false
   },
   "outputs": [],
   "source": []
  }
 ],
 "metadata": {
  "kernelspec": {
   "display_name": "Python 3 (ipykernel)",
   "language": "python",
   "name": "python3"
  },
  "language_info": {
   "codemirror_mode": {
    "name": "ipython",
    "version": 3
   },
   "file_extension": ".py",
   "mimetype": "text/x-python",
   "name": "python",
   "nbconvert_exporter": "python",
   "pygments_lexer": "ipython3",
   "version": "3.12.1"
  }
 },
 "nbformat": 4,
 "nbformat_minor": 5
}
